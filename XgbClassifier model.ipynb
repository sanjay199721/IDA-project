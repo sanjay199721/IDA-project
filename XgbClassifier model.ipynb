{
 "cells": [
  {
   "cell_type": "markdown",
   "metadata": {},
   "source": [
    "# Loading training Data"
   ]
  },
  {
   "cell_type": "code",
   "execution_count": 2,
   "metadata": {},
   "outputs": [],
   "source": [
    "import numpy as np\n",
    "import pandas as pd\n",
    "\n",
    "df=pd.read_csv('train_x.csv').set_index('ID')\n",
    "dfy=pd.read_csv('train_y.csv').set_index('ID')\n",
    "df['Label']=dfy['Label']\n",
    "\n",
    "# Label encoding for Loan type and Occupation type :\n",
    "df['Loan type1']=[0 if i=='A' else 1 if  i=='B' else np.nan for i in df['Loan type']  ]\n",
    "df['Occupation type1']=[0 if i=='X' else 1 if i=='Y' else 2 if i=='Z' else np.nan for i in df['Occupation type']]\n",
    "df=df.drop(['Loan type','Occupation type'],axis=1)"
   ]
  },
  {
   "cell_type": "markdown",
   "metadata": {},
   "source": [
    "# Imputing missing values using K-nearest neighbours"
   ]
  },
  {
   "cell_type": "code",
   "execution_count": 3,
   "metadata": {},
   "outputs": [],
   "source": [
    "from sklearn.impute import KNNImputer\n",
    "\n",
    "imputer = KNNImputer(n_neighbors=10, weights=\"uniform\")\n",
    "array=imputer.fit_transform(df)\n",
    "dfimputed=pd.DataFrame(array,columns=df.columns)\n",
    "# For categorical variables , imputed values will be decimals so, converting them to their corresponding integers.\n",
    "dfimputed['Occupation type1']=[0 if i<(2/3) else 1 if ((2/3)<=i<(4/3)) else 2 for i in dfimputed['Occupation type1']]\n",
    "dfimputed['Age']=[0 if i<0.5 else 1 for i in dfimputed['Age']]\n",
    "dfimputed['Loan type1']=[0 if i<0.5 else 1 for i in dfimputed['Loan type1']]\n",
    "y=dfimputed['Label'].astype(int)\n",
    "X=dfimputed.drop(['Label'],axis=1)"
   ]
  },
  {
   "cell_type": "markdown",
   "metadata": {},
   "source": [
    "# Test , train split"
   ]
  },
  {
   "cell_type": "code",
   "execution_count": 4,
   "metadata": {},
   "outputs": [],
   "source": [
    "from sklearn.model_selection import train_test_split\n",
    "test_size = 0.33\n",
    "X_train, X_test, y_train, y_test = train_test_split(X, y, test_size=test_size)"
   ]
  },
  {
   "cell_type": "markdown",
   "metadata": {},
   "source": [
    "# XGBoost classifier "
   ]
  },
  {
   "cell_type": "code",
   "execution_count": 5,
   "metadata": {},
   "outputs": [],
   "source": [
    "from xgboost import XGBClassifier\n",
    "# Using random states to reproduce results\n",
    "rng = 2\n",
    "clf_xgb = XGBClassifier(eval_metric='error',use_label_encoder=False,random_state = rng)"
   ]
  },
  {
   "cell_type": "markdown",
   "metadata": {},
   "source": [
    "# K-fold cross validation"
   ]
  },
  {
   "cell_type": "code",
   "execution_count": 6,
   "metadata": {},
   "outputs": [],
   "source": [
    "from sklearn.model_selection import RepeatedStratifiedKFold\n",
    "# Repeated stratified K fold for imbalanced classification\n",
    "numFolds = 5\n",
    "kfold_5 = RepeatedStratifiedKFold(n_repeats=3,n_splits = numFolds,random_state=rng)"
   ]
  },
  {
   "cell_type": "markdown",
   "metadata": {},
   "source": [
    "# Positive to negative class ratio"
   ]
  },
  {
   "cell_type": "code",
   "execution_count": 7,
   "metadata": {},
   "outputs": [
    {
     "name": "stdout",
     "output_type": "stream",
     "text": [
      "14.891934843067144\n"
     ]
    }
   ],
   "source": [
    "\n",
    "positive_to_negative_ratio=(len(y)-int(y.sum()))/(y.sum())\n",
    "print(positive_to_negative_ratio)"
   ]
  },
  {
   "cell_type": "markdown",
   "metadata": {},
   "source": [
    "# Randomized Search for best model"
   ]
  },
  {
   "cell_type": "code",
   "execution_count": 8,
   "metadata": {},
   "outputs": [],
   "source": [
    "from scipy import stats\n",
    "from scipy.stats import randint\n",
    "from sklearn.model_selection import RandomizedSearchCV\n",
    "# Using probability distributions to get randomized parameters in intervals.\n",
    "param_dist = {  'max_depth': [3, 4, 5, 6, 7, 8, 9],# Varying maximum depth on a tree\n",
    "                'learning_rate': stats.uniform(0.01, 0.6),# Step size shrinkage used in update to prevents overfitting\n",
    "                'n_estimators': stats.randint(150, 1000),# No of trees in a model\n",
    "                'gamma': [0, 0.1, 0.2],# Minimum loss reduction required to make a further partition on a leaf node of the tree.\n",
    "                'min_child_weight': [0.5*r for r in range(9)], # Minimum sum of instance weight (hessian) needed in a child\n",
    "                'subsample': stats.uniform(0.3, 0.9),\n",
    "                'colsample_bytree': stats.uniform(0, 0.9),# Subsampling of columns in rach tree\n",
    "                'colsample_bylevel': [1],# Subsampling of columns\n",
    "                'reg_alpha': [0, 1e-2, 1, 1e1],# L2 regularization term on weights\n",
    "                'reg_lambda': [0, 1e-2, 1, 1e1], # L1 regularization term on weights\n",
    "                'base_score': [0.5],# The initial prediction score of all instances, global bias\n",
    "                'scale_pos_weight':[13,14,15,16] # (For imbalanced data - positive to negative class >10 )scale_pos_weight is the ratio of number of negative class to the positive class\n",
    "             }\n",
    "# Because the parameter grid is big, randomized search used for lesser time\n",
    "clf = RandomizedSearchCV(clf_xgb, \n",
    "                         param_distributions = param_dist,\n",
    "                         cv = kfold_5,  \n",
    "                         n_iter = 5, \n",
    "                         scoring = 'roc_auc',  # scoring models on roc_auc\n",
    "                         error_score = 0, \n",
    "                         verbose = 3, \n",
    "                         n_jobs = -1,\n",
    "                        random_state = rng)"
   ]
  },
  {
   "cell_type": "markdown",
   "metadata": {},
   "source": [
    "# Fitting trained model"
   ]
  },
  {
   "cell_type": "code",
   "execution_count": 9,
   "metadata": {},
   "outputs": [
    {
     "name": "stdout",
     "output_type": "stream",
     "text": [
      "Fitting 15 folds for each of 5 candidates, totalling 75 fits\n"
     ]
    },
    {
     "name": "stderr",
     "output_type": "stream",
     "text": [
      "c:\\Users\\sanju\\anaconda3\\Lib\\site-packages\\sklearn\\model_selection\\_validation.py:547: FitFailedWarning: \n",
      "15 fits failed out of a total of 75.\n",
      "The score on these train-test partitions for these parameters will be set to 0.\n",
      "If these failures are not expected, you can try to debug them by setting error_score='raise'.\n",
      "\n",
      "Below are more details about the failures:\n",
      "--------------------------------------------------------------------------------\n",
      "15 fits failed with the following error:\n",
      "Traceback (most recent call last):\n",
      "  File \"c:\\Users\\sanju\\anaconda3\\Lib\\site-packages\\sklearn\\model_selection\\_validation.py\", line 895, in _fit_and_score\n",
      "    estimator.fit(X_train, y_train, **fit_params)\n",
      "  File \"c:\\Users\\sanju\\anaconda3\\Lib\\site-packages\\xgboost\\core.py\", line 726, in inner_f\n",
      "    return func(**kwargs)\n",
      "           ^^^^^^^^^^^^^^\n",
      "  File \"c:\\Users\\sanju\\anaconda3\\Lib\\site-packages\\xgboost\\sklearn.py\", line 1531, in fit\n",
      "    self._Booster = train(\n",
      "                    ^^^^^^\n",
      "  File \"c:\\Users\\sanju\\anaconda3\\Lib\\site-packages\\xgboost\\core.py\", line 726, in inner_f\n",
      "    return func(**kwargs)\n",
      "           ^^^^^^^^^^^^^^\n",
      "  File \"c:\\Users\\sanju\\anaconda3\\Lib\\site-packages\\xgboost\\training.py\", line 181, in train\n",
      "    bst.update(dtrain, iteration=i, fobj=obj)\n",
      "  File \"c:\\Users\\sanju\\anaconda3\\Lib\\site-packages\\xgboost\\core.py\", line 2100, in update\n",
      "    _check_call(\n",
      "  File \"c:\\Users\\sanju\\anaconda3\\Lib\\site-packages\\xgboost\\core.py\", line 284, in _check_call\n",
      "    raise XGBoostError(py_str(_LIB.XGBGetLastError()))\n",
      "xgboost.core.XGBoostError: value 1.19177 for Parameter subsample exceed bound [0,1]\n",
      "subsample: Row subsample ratio of training instance.\n",
      "\n",
      "  warnings.warn(some_fits_failed_message, FitFailedWarning)\n",
      "c:\\Users\\sanju\\anaconda3\\Lib\\site-packages\\xgboost\\core.py:158: UserWarning: [19:07:35] WARNING: C:\\buildkite-agent\\builds\\buildkite-windows-cpu-autoscaling-group-i-0015a694724fa8361-1\\xgboost\\xgboost-ci-windows\\src\\learner.cc:740: \n",
      "Parameters: { \"use_label_encoder\" } are not used.\n",
      "\n",
      "  warnings.warn(smsg, UserWarning)\n"
     ]
    },
    {
     "name": "stdout",
     "output_type": "stream",
     "text": [
      "{'mean_fit_time': array([ 5.41969512, 10.50733825,  7.2429033 ,  6.70270054,  0.31562675]), 'std_fit_time': array([0.40060209, 0.58722854, 0.37068272, 0.30508129, 0.03838712]), 'mean_score_time': array([0.26616459, 0.59601054, 0.44150985, 0.51989948, 0.        ]), 'std_score_time': array([0.04403155, 0.05967349, 0.08496951, 0.14618267, 0.        ]), 'param_base_score': masked_array(data=[0.5, 0.5, 0.5, 0.5, 0.5],\n",
      "             mask=[False, False, False, False, False],\n",
      "       fill_value='?',\n",
      "            dtype=object), 'param_colsample_bylevel': masked_array(data=[1, 1, 1, 1, 1],\n",
      "             mask=[False, False, False, False, False],\n",
      "       fill_value='?',\n",
      "            dtype=object), 'param_colsample_bytree': masked_array(data=[0.3923954119278034, 0.6289764222304811,\n",
      "                   0.6477788091212632, 0.3853100948376505,\n",
      "                   0.15104097963131016],\n",
      "             mask=[False, False, False, False, False],\n",
      "       fill_value='?',\n",
      "            dtype=object), 'param_gamma': masked_array(data=[0.1, 0.2, 0.2, 0.2, 0],\n",
      "             mask=[False, False, False, False, False],\n",
      "       fill_value='?',\n",
      "            dtype=object), 'param_learning_rate': masked_array(data=[0.568924519492667, 0.3896426383605621,\n",
      "                   0.5223851755836932, 0.08629598302076646,\n",
      "                   0.1310459357589792],\n",
      "             mask=[False, False, False, False, False],\n",
      "       fill_value='?',\n",
      "            dtype=object), 'param_max_depth': masked_array(data=[6, 7, 5, 9, 5],\n",
      "             mask=[False, False, False, False, False],\n",
      "       fill_value='?',\n",
      "            dtype=object), 'param_min_child_weight': masked_array(data=[1.0, 2.5, 1.5, 1.0, 4.0],\n",
      "             mask=[False, False, False, False, False],\n",
      "       fill_value='?',\n",
      "            dtype=object), 'param_n_estimators': masked_array(data=[225, 829, 475, 282, 909],\n",
      "             mask=[False, False, False, False, False],\n",
      "       fill_value='?',\n",
      "            dtype=object), 'param_reg_alpha': masked_array(data=[0, 10.0, 0, 1, 0.01],\n",
      "             mask=[False, False, False, False, False],\n",
      "       fill_value='?',\n",
      "            dtype=object), 'param_reg_lambda': masked_array(data=[10.0, 1, 0, 10.0, 1],\n",
      "             mask=[False, False, False, False, False],\n",
      "       fill_value='?',\n",
      "            dtype=object), 'param_scale_pos_weight': masked_array(data=[15, 13, 15, 16, 13],\n",
      "             mask=[False, False, False, False, False],\n",
      "       fill_value='?',\n",
      "            dtype=object), 'param_subsample': masked_array(data=[0.4389840057803971, 0.8281172802000929,\n",
      "                   0.35875785394819026, 0.8195772619161281,\n",
      "                   1.191766795679955],\n",
      "             mask=[False, False, False, False, False],\n",
      "       fill_value='?',\n",
      "            dtype=object), 'params': [{'base_score': 0.5, 'colsample_bylevel': 1, 'colsample_bytree': 0.3923954119278034, 'gamma': 0.1, 'learning_rate': 0.568924519492667, 'max_depth': 6, 'min_child_weight': 1.0, 'n_estimators': 225, 'reg_alpha': 0, 'reg_lambda': 10.0, 'scale_pos_weight': 15, 'subsample': 0.4389840057803971}, {'base_score': 0.5, 'colsample_bylevel': 1, 'colsample_bytree': 0.6289764222304811, 'gamma': 0.2, 'learning_rate': 0.3896426383605621, 'max_depth': 7, 'min_child_weight': 2.5, 'n_estimators': 829, 'reg_alpha': 10.0, 'reg_lambda': 1, 'scale_pos_weight': 13, 'subsample': 0.8281172802000929}, {'base_score': 0.5, 'colsample_bylevel': 1, 'colsample_bytree': 0.6477788091212632, 'gamma': 0.2, 'learning_rate': 0.5223851755836932, 'max_depth': 5, 'min_child_weight': 1.5, 'n_estimators': 475, 'reg_alpha': 0, 'reg_lambda': 0, 'scale_pos_weight': 15, 'subsample': 0.35875785394819026}, {'base_score': 0.5, 'colsample_bylevel': 1, 'colsample_bytree': 0.3853100948376505, 'gamma': 0.2, 'learning_rate': 0.08629598302076646, 'max_depth': 9, 'min_child_weight': 1.0, 'n_estimators': 282, 'reg_alpha': 1, 'reg_lambda': 10.0, 'scale_pos_weight': 16, 'subsample': 0.8195772619161281}, {'base_score': 0.5, 'colsample_bylevel': 1, 'colsample_bytree': 0.15104097963131016, 'gamma': 0, 'learning_rate': 0.1310459357589792, 'max_depth': 5, 'min_child_weight': 4.0, 'n_estimators': 909, 'reg_alpha': 0.01, 'reg_lambda': 1, 'scale_pos_weight': 13, 'subsample': 1.191766795679955}], 'split0_test_score': array([0.96419659, 0.97123794, 0.95393002, 0.97054196, 0.        ]), 'split1_test_score': array([0.95372784, 0.96156789, 0.9487864 , 0.96076963, 0.        ]), 'split2_test_score': array([0.95343128, 0.96640055, 0.95261212, 0.96486813, 0.        ]), 'split3_test_score': array([0.96698791, 0.9731655 , 0.95795306, 0.97350954, 0.        ]), 'split4_test_score': array([0.96079429, 0.971541  , 0.95768146, 0.97084073, 0.        ]), 'split5_test_score': array([0.96478499, 0.97264364, 0.95771476, 0.97093341, 0.        ]), 'split6_test_score': array([0.95767356, 0.96625493, 0.94791939, 0.96395926, 0.        ]), 'split7_test_score': array([0.96986931, 0.96997033, 0.96248739, 0.97452918, 0.        ]), 'split8_test_score': array([0.96712024, 0.97319533, 0.95741547, 0.97026719, 0.        ]), 'split9_test_score': array([0.95891747, 0.96345933, 0.9539919 , 0.96381763, 0.        ]), 'split10_test_score': array([0.95787848, 0.96677804, 0.95150616, 0.96222658, 0.        ]), 'split11_test_score': array([0.95848651, 0.96780101, 0.95478831, 0.96657807, 0.        ]), 'split12_test_score': array([0.9660235 , 0.97150245, 0.95364646, 0.96943053, 0.        ]), 'split13_test_score': array([0.96563442, 0.97073137, 0.95666315, 0.97243186, 0.        ]), 'split14_test_score': array([0.96600925, 0.97282072, 0.95545269, 0.9698928 , 0.        ]), 'mean_test_score': array([0.96210238, 0.96927134, 0.95483658, 0.96830643, 0.        ]), 'std_test_score': array([0.00497845, 0.00355894, 0.00363719, 0.00413428, 0.        ]), 'rank_test_score': array([3, 1, 4, 2, 5])}\n"
     ]
    }
   ],
   "source": [
    "clf.fit(X_train,y_train)\n",
    "print(clf.cv_results_)"
   ]
  },
  {
   "cell_type": "markdown",
   "metadata": {},
   "source": [
    "# Training data performance"
   ]
  },
  {
   "cell_type": "code",
   "execution_count": 10,
   "metadata": {},
   "outputs": [
    {
     "data": {
      "text/plain": [
       "0.9966852478598447"
      ]
     },
     "execution_count": 10,
     "metadata": {},
     "output_type": "execute_result"
    }
   ],
   "source": [
    "from sklearn.metrics import precision_score,recall_score,accuracy_score,f1_score,roc_auc_score\n",
    "roc_auc_score(y_train,clf.predict(X_train))"
   ]
  },
  {
   "cell_type": "markdown",
   "metadata": {},
   "source": [
    "# Metrics for prediction of test data"
   ]
  },
  {
   "cell_type": "code",
   "execution_count": 11,
   "metadata": {},
   "outputs": [
    {
     "name": "stdout",
     "output_type": "stream",
     "text": [
      "Accuracy is: 0.978560606060606\n",
      "F1 score is: 0.8348891481913653\n",
      "Precision score is: 0.8112244897959183\n",
      "ROC AUC score is: 0.9232569005622451\n",
      "Recall score is: 0.8599759615384616\n"
     ]
    }
   ],
   "source": [
    "pred_test = clf.predict(X_test)\n",
    "predictions = [round(value) for value in pred_test]\n",
    "print('Accuracy is:',accuracy_score(y_test,predictions))\n",
    "print('F1 score is:',f1_score(y_test,predictions))\n",
    "print('Precision score is:',precision_score(y_test,predictions))\n",
    "print('ROC AUC score is:',roc_auc_score(y_test,predictions))\n",
    "print('Recall score is:',recall_score(y_test,predictions))"
   ]
  },
  {
   "cell_type": "markdown",
   "metadata": {},
   "source": [
    "# Feature importance"
   ]
  },
  {
   "cell_type": "code",
   "execution_count": 11,
   "metadata": {},
   "outputs": [
    {
     "data": {
      "text/plain": [
       "<AxesSubplot:title={'center':'Feature importance'}, xlabel='F score', ylabel='Features'>"
      ]
     },
     "execution_count": 11,
     "metadata": {},
     "output_type": "execute_result"
    },
    {
     "data": {
      "image/png": "[encoded data removed]",
      "text/plain": [
       "<Figure size 432x288 with 1 Axes>"
      ]
     },
     "metadata": {
      "needs_background": "light"
     },
     "output_type": "display_data"
    }
   ],
   "source": [
    "from xgboost import plot_importance\n",
    "\n",
    "plot_importance(clf.best_estimator_)"
   ]
  },
  {
   "cell_type": "markdown",
   "metadata": {},
   "source": [
    "# Prediction of test_x"
   ]
  },
  {
   "cell_type": "code",
   "execution_count": 12,
   "metadata": {},
   "outputs": [],
   "source": [
    "test_x=pd.read_csv(\"test_x.csv\").set_index('ID_Test')\n",
    "test_x['Loan type1']=[0 if i=='A' else 1 if  i=='B' else np.nan for i in test_x['Loan type']  ]\n",
    "test_x['Occupation type1']=[0 if i=='X' else 1 if i=='Y' else 2 if i=='Z' else np.nan for i in test_x['Occupation type']]\n",
    "test_x=test_x.drop(['Loan type','Occupation type'],axis=1)\n",
    "pred_arr=pd.DataFrame(clf.predict(test_x),index=test_x.index).rename(columns={0:'Label'})\n",
    "pred_arr.to_csv('pred_y.csv')"
   ]
  },
  {
   "cell_type": "code",
   "execution_count": null,
   "metadata": {},
   "outputs": [],
   "source": []
  }
 ],
 "metadata": {
  "kernelspec": {
   "display_name": "base",
   "language": "python",
   "name": "python3"
  },
  "language_info": {
   "codemirror_mode": {
    "name": "ipython",
    "version": 3
   },
   "file_extension": ".py",
   "mimetype": "text/x-python",
   "name": "python",
   "nbconvert_exporter": "python",
   "pygments_lexer": "ipython3",
   "version": "3.12.4"
  }
 },
 "nbformat": 4,
 "nbformat_minor": 4
}
